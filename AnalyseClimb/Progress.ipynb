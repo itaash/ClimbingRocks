{
 "cells": [
  {
   "cell_type": "code",
   "execution_count": null,
   "metadata": {},
   "outputs": [],
   "source": [
    "import numpy as np\n",
    "import pandas as pd\n",
    "import matplotlib.pyplot as plt\n",
    "import time"
   ]
  },
  {
   "cell_type": "code",
   "execution_count": null,
   "metadata": {},
   "outputs": [],
   "source": [
    "# Preprocess data, forward fill\n",
    "def preprocess_data(df):\n",
    "    df.fillna(method='ffill', inplace=True)  # Fill NaN values in the DataFrame with last valid observation\n",
    "    return df"
   ]
  },
  {
   "cell_type": "code",
   "execution_count": null,
   "metadata": {},
   "outputs": [],
   "source": [
    "def calculate_distance(x1, y1, x2, y2):\n",
    "    return math.sqrt((x2 - x1) ** 2 + (y2 - y1) ** 2)"
   ]
  },
  {
   "cell_type": "code",
   "execution_count": null,
   "metadata": {},
   "outputs": [],
   "source": [
    "# Check if both wrists are close enough to the designated hold\n",
    "def check_wrist_on_hold(row, start_hold_x, start_hold_y, end_hold_x, end_hold_y, threshold):\n",
    "    left_wrist_distance = calculate_distance(row['left_wrist_X'], row['left_wrist_Y'], start_hold_x, start_hold_y)\n",
    "    right_wrist_distance = calculate_distance(row['right_wrist_X'], row['right_wrist_Y'], start_hold_x, start_hold_y)\n",
    "    return (left_wrist_distance <= threshold) and (right_wrist_distance <= threshold)"
   ]
  },
  {
   "cell_type": "code",
   "execution_count": null,
   "metadata": {},
   "outputs": [],
   "source": [
    "# Check if feet are off the ground\n",
    "def check_feet_off_ground(row, ground_x, ground_y, threshold):\n",
    "    left_foot_distance = calculate_distance(row['left_ankle_X'], row['left_ankle_Y'], ground_x, ground_y)\n",
    "    right_foot_distance = calculate_distance(row['right_ankle_X'], row['right_ankle_Y'], ground_x, ground_y)\n",
    "    return (left_foot_distance > threshold) and (right_foot_distance > threshold)"
   ]
  },
  {
   "cell_type": "code",
   "execution_count": null,
   "metadata": {},
   "outputs": [],
   "source": [
    "# Function to measure climbing duration and count holds reached\n",
    "def measure_climbing_duration(data, start_hold_x, start_hold_y, end_hold_x, end_hold_y, ground_x, ground_y, threshold_distance, threshold_ground_distance):\n",
    "    timer_started = False\n",
    "    start_time = None\n",
    "    holds_reached = 0\n",
    "\n",
    "    for index, row in data.iterrows():\n",
    "        feet_off_ground = check_feet_off_ground(row, ground_x, ground_y, threshold_ground_distance)\n",
    "        if feet_off_ground and check_wrist_on_hold(row, start_hold_x, start_hold_y, end_hold_x, end_hold_y, threshold_distance):\n",
    "            if not timer_started:\n",
    "                timer_started = True\n",
    "                start_time = row['Timestamp(ms)']\n",
    "            holds_reached += 1  # Increment the count of holds reached\n",
    "        else:\n",
    "            if timer_started:\n",
    "                end_time = row['Timestamp(ms)']\n",
    "                return start_time, end_time, holds_reached\n",
    "\n",
    "    return None, None, None"
   ]
  },
  {
   "cell_type": "code",
   "execution_count": null,
   "metadata": {},
   "outputs": [],
   "source": [
    "# Function to count holds reached before falling\n",
    "def count_holds_reached(climbing_data, start_hold_x, start_hold_y, end_hold_x, end_hold_y, ground_x, ground_y, threshold_distance, threshold_ground_distance):\n",
    "    start_time, end_time, holds_reached = measure_climbing_duration(\n",
    "        climbing_data, start_hold_x, start_hold_y, end_hold_x, end_hold_y,\n",
    "        ground_x, ground_y, threshold_distance, threshold_ground_distance\n",
    "    )\n",
    "\n",
    "    if holds_reached is not None:\n",
    "        print(f\"The climber reached {holds_reached} holds before falling.\")\n",
    "    else:\n",
    "        print(\"The climber did not fall during the climb.\")"
   ]
  },
  {
   "cell_type": "code",
   "execution_count": null,
   "metadata": {},
   "outputs": [],
   "source": [
    "# Calculate score based on climbing duration and holds reached\n",
    "def calculate_score(climbing_duration, max_score, holds_reached, total_holds):\n",
    "    if climbing_duration is not None:\n",
    "        if holds_reached == total_holds:  # Climber completed the route\n",
    "            return max_score  # Return the maximum possible score (100)\n",
    "        else:\n",
    "            missed_holds = total_holds - holds_reached\n",
    "            penalty = 20 * missed_holds  # Subtract 20 points for each hold missed\n",
    "            score = max_score - penalty\n",
    "            return max(0, round(score, 2))  # Ensure score doesn't go below 0\n",
    "    return 0"
   ]
  },
  {
   "cell_type": "code",
   "execution_count": null,
   "metadata": {},
   "outputs": [],
   "source": [
    "# Function to calculate hesitation score based on time distribution on holds\n",
    "def calculate_hesitation_score(holds_hesitation):\n",
    "    total_time = sum(holds_hesitation.values())\n",
    "    total_holds = len(holds_hesitation)\n",
    "\n",
    "    if total_holds == 0 or total_time == 0:\n",
    "        return 0\n",
    "\n",
    "    average_time_per_hold = total_time / total_holds\n",
    "    max_score = 100\n",
    "\n",
    "    # Calculate the deviation of each hold's time from the average\n",
    "    deviations = [abs(time - average_time_per_hold) for time in holds_hesitation.values()]\n",
    "\n",
    "    # Calculate the score based on the deviation from average time spent on each hold\n",
    "    max_deviation = max(deviations)\n",
    "    score = max_score - ((max_deviation / average_time_per_hold) * max_score)\n",
    "\n",
    "    return max(0, round(score, 2))"
   ]
  },
  {
   "cell_type": "code",
   "execution_count": null,
   "metadata": {},
   "outputs": [],
   "source": [
    "# Function to calculate combined score by averaging climbing duration score and hesitation score\n",
    "def calculate_combined_score(climbing_duration_score, hesitation_score):\n",
    "    return (climbing_duration_score + hesitation_score) / 2"
   ]
  },
  {
   "cell_type": "code",
   "execution_count": null,
   "metadata": {},
   "outputs": [],
   "source": [
    "def main():\n",
    "    climbing_data = pd.read_csv('your_data.csv')  # Replace 'your_data.csv' with your file name\n",
    "    start_hold_x =  # specify the X coordinate of the start hold\n",
    "    start_hold_y =  # specify the Y coordinate of the start hold\n",
    "    end_hold_x =  # specify the X coordinate of the end hold\n",
    "    end_hold_y =  # specify the Y coordinate of the end hold\n",
    "    ground_x =  # specify the X coordinate of the ground\n",
    "    ground_y =  # specify the Y coordinate of the ground\n",
    "    threshold_distance =  # specify the threshold distance for proximity to the holds\n",
    "    threshold_ground_distance =  # specify the threshold distance from the ground\n",
    "    max_score = 100  # Specify the maximum possible score\n",
    "\n",
    "    climbing_data = preprocess_data(climbing_data)  # Preprocess NaN values in the DataFrame\n",
    "\n",
    "    start_time, end_time, _ = measure_climbing_duration(\n",
    "        climbing_data, start_hold_x, start_hold_y, end_hold_x, end_hold_y,\n",
    "        ground_x, ground_y, threshold_distance, threshold_ground_distance\n",
    "    )\n",
    "\n",
    "    if start_time is not None and end_time is not None:\n",
    "        climbing_duration = end_time - start_time\n",
    "        holds_hesitation = measure_hesitation_on_holds(\n",
    "            climbing_data, start_hold_x, start_hold_y, end_hold_x, end_hold_y,\n",
    "            threshold_distance, start_time, end_time\n",
    "        )\n",
    "\n",
    "        hesitation_score = calculate_hesitation_score(holds_hesitation)\n",
    "        climbing_duration_score = calculate_score(climbing_duration, max_score, holds_reached, total_holds)\n",
    "\n",
    "        combined_score = calculate_combined_score(climbing_duration_score, hesitation_score)\n",
    "        print(f\"The climber's combined score is {combined_score}.\")\n",
    "\n",
    "    else:\n",
    "        count_holds_reached(\n",
    "            climbing_data, start_hold_x, start_hold_y, end_hold_x, end_hold_y,\n",
    "            ground_x, ground_y, threshold_distance, threshold_ground_distance\n",
    "        )\n",
    "\n",
    "        climbing_duration_score = calculate_score(climbing_duration, max_score, holds_reached, total_holds)\n",
    "        print(f\"The climber's score is {climbing_duration_score}.\")\n",
    "\n",
    "if __name__ == \"__main__\":\n",
    "    main()"
   ]
  }
 ],
 "metadata": {
  "language_info": {
   "name": "python"
  }
 },
 "nbformat": 4,
 "nbformat_minor": 2
}
